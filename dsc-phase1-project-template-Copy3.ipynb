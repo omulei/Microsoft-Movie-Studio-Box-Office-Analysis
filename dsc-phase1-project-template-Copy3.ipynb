{
 "cells": [
  {
   "cell_type": "markdown",
   "metadata": {},
   "source": [
    "## Microsoft-Movie-Studio-Box-Office-Analysis\n",
    "---\n",
    "\n",
    "**Author**:[Oscar Mulei](mailto:omulei@gmail.com)"
   ]
  },
  {
   "cell_type": "markdown",
   "metadata": {},
   "source": [
    "## Overview\n",
    "***\n",
    "This project provides a comprehensive analysis of box office performance for movies. The goal is to offer valuable insights to Microsoft's newly established movie studio. The analysis covers various aspects of movies, such as genres, ratings, budgets, and release dates, to uncover the factors that contribute to a successful box office performance.\n",
    "***"
   ]
  },
  {
   "cell_type": "markdown",
   "metadata": {},
   "source": [
    "## Business Problem\n",
    "***\n",
    "Microsoft, recognizing the success of other big companies in creating original video content, is eager to enter the movie industry. However, despite their eagerness, they lack experience in movie creation. The challenge lies in understanding the current movie landscape and identifying the types of films that perform well at the box office. This project aims to explore these aspects, and its findings will guide the decision-making process for Microsoft's new movie studio, helping to decide what type of films to create.\n",
    "\n",
    "***"
   ]
  },
  {
   "cell_type": "markdown",
   "metadata": {},
   "source": [
    "## Data\n",
    "***\n",
    "The project leverages several datasets, providing comprehensive movie-related information. Each movie has a unique ID associated with its [intake](link-to-intake-dataset) and [outcome](link-to-outcome-dataset) data. The datasets offer valuable data points, such as movie titles, genres, average ratings, domestic and foreign gross revenues, and release years.\n",
    "\n",
    "Given the business problem, we recognize the need to incorporate additional data to provide more comprehensive insights. This includes information on movie genre, budget and box office revenue, director and cast, runtime, and regional and language specifics. However, our current dataset includes the movie name, release year, and IMDB rating. Future enhancements of this analysis may include these additional data points.\n",
    "***"
   ]
  },
  {
   "cell_type": "code",
   "execution_count": 1,
   "metadata": {},
   "outputs": [],
   "source": [
    "# Import standard packages\n",
    "import pandas as pd\n",
    "import numpy as np\n",
    "import matplotlib.pyplot as plt\n",
    "import seaborn as sns\n",
    "import sqlite3\n",
    "\n",
    "%matplotlib inline"
   ]
  },
  {
   "cell_type": "code",
   "execution_count": 2,
   "metadata": {},
   "outputs": [],
   "source": [
    "# !ls"
   ]
  },
  {
   "cell_type": "code",
   "execution_count": 3,
   "metadata": {},
   "outputs": [
    {
     "data": {
      "text/html": [
       "<div>\n",
       "<style scoped>\n",
       "    .dataframe tbody tr th:only-of-type {\n",
       "        vertical-align: middle;\n",
       "    }\n",
       "\n",
       "    .dataframe tbody tr th {\n",
       "        vertical-align: top;\n",
       "    }\n",
       "\n",
       "    .dataframe thead th {\n",
       "        text-align: right;\n",
       "    }\n",
       "</style>\n",
       "<table border=\"1\" class=\"dataframe\">\n",
       "  <thead>\n",
       "    <tr style=\"text-align: right;\">\n",
       "      <th></th>\n",
       "      <th>title</th>\n",
       "      <th>studio</th>\n",
       "      <th>domestic_gross</th>\n",
       "      <th>foreign_gross</th>\n",
       "      <th>year</th>\n",
       "    </tr>\n",
       "  </thead>\n",
       "  <tbody>\n",
       "    <tr>\n",
       "      <th>0</th>\n",
       "      <td>Toy Story 3</td>\n",
       "      <td>BV</td>\n",
       "      <td>415000000.0</td>\n",
       "      <td>652000000</td>\n",
       "      <td>2010</td>\n",
       "    </tr>\n",
       "    <tr>\n",
       "      <th>1</th>\n",
       "      <td>Alice in Wonderland (2010)</td>\n",
       "      <td>BV</td>\n",
       "      <td>334200000.0</td>\n",
       "      <td>691300000</td>\n",
       "      <td>2010</td>\n",
       "    </tr>\n",
       "  </tbody>\n",
       "</table>\n",
       "</div>"
      ],
      "text/plain": [
       "                        title studio  domestic_gross foreign_gross  year\n",
       "0                 Toy Story 3     BV     415000000.0     652000000  2010\n",
       "1  Alice in Wonderland (2010)     BV     334200000.0     691300000  2010"
      ]
     },
     "execution_count": 3,
     "metadata": {},
     "output_type": "execute_result"
    }
   ],
   "source": [
    "movie_gross = pd.read_csv('bom.movie_gross.csv.gz')\n",
    "\n",
    "\n",
    "'''\n",
    "The movie_gross file contain information about movie gross earnings. Here are the columns and a brief description of each:\n",
    "\n",
    "1. **title**: The title of the movie.\n",
    "2. **studio**: The studio that produced the movie.\n",
    "3. **domestic_gross**: The gross domestic earnings of the movie in USD.\n",
    "4. **foreign_gross**: The gross foreign earnings of the movie. It seems like this might be a string, we may need to convert it to a numeric type for analysis.\n",
    "5. **year**: The year the movie was released.\n",
    "'''\n",
    "# Show the first few rows of the DataFrame\n",
    "movie_gross.head(2)"
   ]
  },
  {
   "cell_type": "code",
   "execution_count": 4,
   "metadata": {
    "scrolled": true
   },
   "outputs": [
    {
     "data": {
      "text/html": [
       "<div>\n",
       "<style scoped>\n",
       "    .dataframe tbody tr th:only-of-type {\n",
       "        vertical-align: middle;\n",
       "    }\n",
       "\n",
       "    .dataframe tbody tr th {\n",
       "        vertical-align: top;\n",
       "    }\n",
       "\n",
       "    .dataframe thead th {\n",
       "        text-align: right;\n",
       "    }\n",
       "</style>\n",
       "<table border=\"1\" class=\"dataframe\">\n",
       "  <thead>\n",
       "    <tr style=\"text-align: right;\">\n",
       "      <th></th>\n",
       "      <th>id</th>\n",
       "      <th>synopsis</th>\n",
       "      <th>rating</th>\n",
       "      <th>genre</th>\n",
       "      <th>director</th>\n",
       "      <th>writer</th>\n",
       "      <th>theater_date</th>\n",
       "      <th>dvd_date</th>\n",
       "      <th>currency</th>\n",
       "      <th>box_office</th>\n",
       "      <th>runtime</th>\n",
       "      <th>studio</th>\n",
       "    </tr>\n",
       "  </thead>\n",
       "  <tbody>\n",
       "    <tr>\n",
       "      <th>0</th>\n",
       "      <td>1</td>\n",
       "      <td>This gritty, fast-paced, and innovative police...</td>\n",
       "      <td>R</td>\n",
       "      <td>Action and Adventure|Classics|Drama</td>\n",
       "      <td>William Friedkin</td>\n",
       "      <td>Ernest Tidyman</td>\n",
       "      <td>Oct 9, 1971</td>\n",
       "      <td>Sep 25, 2001</td>\n",
       "      <td>NaN</td>\n",
       "      <td>NaN</td>\n",
       "      <td>104 minutes</td>\n",
       "      <td>NaN</td>\n",
       "    </tr>\n",
       "    <tr>\n",
       "      <th>1</th>\n",
       "      <td>3</td>\n",
       "      <td>New York City, not-too-distant-future: Eric Pa...</td>\n",
       "      <td>R</td>\n",
       "      <td>Drama|Science Fiction and Fantasy</td>\n",
       "      <td>David Cronenberg</td>\n",
       "      <td>David Cronenberg|Don DeLillo</td>\n",
       "      <td>Aug 17, 2012</td>\n",
       "      <td>Jan 1, 2013</td>\n",
       "      <td>$</td>\n",
       "      <td>600,000</td>\n",
       "      <td>108 minutes</td>\n",
       "      <td>Entertainment One</td>\n",
       "    </tr>\n",
       "  </tbody>\n",
       "</table>\n",
       "</div>"
      ],
      "text/plain": [
       "   id                                           synopsis rating  \\\n",
       "0   1  This gritty, fast-paced, and innovative police...      R   \n",
       "1   3  New York City, not-too-distant-future: Eric Pa...      R   \n",
       "\n",
       "                                 genre          director  \\\n",
       "0  Action and Adventure|Classics|Drama  William Friedkin   \n",
       "1    Drama|Science Fiction and Fantasy  David Cronenberg   \n",
       "\n",
       "                         writer  theater_date      dvd_date currency  \\\n",
       "0                Ernest Tidyman   Oct 9, 1971  Sep 25, 2001      NaN   \n",
       "1  David Cronenberg|Don DeLillo  Aug 17, 2012   Jan 1, 2013        $   \n",
       "\n",
       "  box_office      runtime             studio  \n",
       "0        NaN  104 minutes                NaN  \n",
       "1    600,000  108 minutes  Entertainment One  "
      ]
     },
     "execution_count": 4,
     "metadata": {},
     "output_type": "execute_result"
    }
   ],
   "source": [
    "rt_movie = pd.read_csv('rt.movie_info.tsv.gz', sep='\\t')\n",
    "\n",
    "'''\n",
    "\n",
    "The rt_movie file contain detailed information about movies. Here are the columns and a brief description of each:\n",
    "\n",
    "1. **id**: An identifier for the movie.\n",
    "2. **synopsis**: A brief summary of the movie.\n",
    "3. **rating**: The movie's rating.\n",
    "4. **genre**: The genre(s) of the movie.\n",
    "5. **director**: The director of the movie.\n",
    "6. **writer**: The writer of the movie.\n",
    "7. **theater_date**: The date the movie was released in theaters.\n",
    "8. **dvd_date**: The date the movie was released on DVD.\n",
    "9. **currency**: The currency used for the box office figures. \n",
    "10. **box_office**: The earnings of the movie at the box office. \n",
    "11. **runtime**: The duration of the movie. \n",
    "12. **studio**: The studio that produced the movie.\n",
    "\n",
    "'''\n",
    "# Show the first few rows of the DataFrame\n",
    "rt_movie.head(2)"
   ]
  },
  {
   "cell_type": "code",
   "execution_count": 5,
   "metadata": {},
   "outputs": [
    {
     "data": {
      "text/html": [
       "<div>\n",
       "<style scoped>\n",
       "    .dataframe tbody tr th:only-of-type {\n",
       "        vertical-align: middle;\n",
       "    }\n",
       "\n",
       "    .dataframe tbody tr th {\n",
       "        vertical-align: top;\n",
       "    }\n",
       "\n",
       "    .dataframe thead th {\n",
       "        text-align: right;\n",
       "    }\n",
       "</style>\n",
       "<table border=\"1\" class=\"dataframe\">\n",
       "  <thead>\n",
       "    <tr style=\"text-align: right;\">\n",
       "      <th></th>\n",
       "      <th>id</th>\n",
       "      <th>review</th>\n",
       "      <th>rating</th>\n",
       "      <th>fresh</th>\n",
       "      <th>critic</th>\n",
       "      <th>top_critic</th>\n",
       "      <th>publisher</th>\n",
       "      <th>date</th>\n",
       "    </tr>\n",
       "  </thead>\n",
       "  <tbody>\n",
       "    <tr>\n",
       "      <th>0</th>\n",
       "      <td>3</td>\n",
       "      <td>A distinctly gallows take on contemporary fina...</td>\n",
       "      <td>3/5</td>\n",
       "      <td>fresh</td>\n",
       "      <td>PJ Nabarro</td>\n",
       "      <td>0</td>\n",
       "      <td>Patrick Nabarro</td>\n",
       "      <td>November 10, 2018</td>\n",
       "    </tr>\n",
       "    <tr>\n",
       "      <th>1</th>\n",
       "      <td>3</td>\n",
       "      <td>It's an allegory in search of a meaning that n...</td>\n",
       "      <td>NaN</td>\n",
       "      <td>rotten</td>\n",
       "      <td>Annalee Newitz</td>\n",
       "      <td>0</td>\n",
       "      <td>io9.com</td>\n",
       "      <td>May 23, 2018</td>\n",
       "    </tr>\n",
       "  </tbody>\n",
       "</table>\n",
       "</div>"
      ],
      "text/plain": [
       "   id                                             review rating   fresh  \\\n",
       "0   3  A distinctly gallows take on contemporary fina...    3/5   fresh   \n",
       "1   3  It's an allegory in search of a meaning that n...    NaN  rotten   \n",
       "\n",
       "           critic  top_critic        publisher               date  \n",
       "0      PJ Nabarro           0  Patrick Nabarro  November 10, 2018  \n",
       "1  Annalee Newitz           0          io9.com       May 23, 2018  "
      ]
     },
     "execution_count": 5,
     "metadata": {},
     "output_type": "execute_result"
    }
   ],
   "source": [
    "rt_review = pd.read_csv('rt.reviews.tsv.gz', sep='\\t', encoding='latin-1')\n",
    "\n",
    "'''\n",
    "\n",
    "The rt_review file contain reviews for movies. Here are the columns and a brief description of each:\n",
    "\n",
    "1. **id**: An identifier for the movie.\n",
    "2. **review**: The text of the review.\n",
    "3. **rating**: The rating given by the reviewer. \n",
    "4. **fresh**: A categorical variable indicating if the review is \"fresh\" or \"rotten\".\n",
    "5. **critic**: The name of the critic who wrote the review.\n",
    "6. **top_critic**: A binary variable indicating if the critic is a top critic.\n",
    "7. **publisher**: The publisher of the review.\n",
    "8. **date**: The date the review was published.\n",
    "\n",
    "'''\n",
    "\n",
    "# Show the first few rows of the DataFrame\n",
    "rt_review.head(2)\n",
    "# rt_review.info()\n"
   ]
  },
  {
   "cell_type": "code",
   "execution_count": 6,
   "metadata": {
    "scrolled": true
   },
   "outputs": [
    {
     "data": {
      "text/html": [
       "<div>\n",
       "<style scoped>\n",
       "    .dataframe tbody tr th:only-of-type {\n",
       "        vertical-align: middle;\n",
       "    }\n",
       "\n",
       "    .dataframe tbody tr th {\n",
       "        vertical-align: top;\n",
       "    }\n",
       "\n",
       "    .dataframe thead th {\n",
       "        text-align: right;\n",
       "    }\n",
       "</style>\n",
       "<table border=\"1\" class=\"dataframe\">\n",
       "  <thead>\n",
       "    <tr style=\"text-align: right;\">\n",
       "      <th></th>\n",
       "      <th>genre_ids</th>\n",
       "      <th>id</th>\n",
       "      <th>original_language</th>\n",
       "      <th>original_title</th>\n",
       "      <th>popularity</th>\n",
       "      <th>release_date</th>\n",
       "      <th>title</th>\n",
       "      <th>vote_average</th>\n",
       "      <th>vote_count</th>\n",
       "    </tr>\n",
       "  </thead>\n",
       "  <tbody>\n",
       "    <tr>\n",
       "      <th>0</th>\n",
       "      <td>[12, 14, 10751]</td>\n",
       "      <td>12444</td>\n",
       "      <td>en</td>\n",
       "      <td>Harry Potter and the Deathly Hallows: Part 1</td>\n",
       "      <td>33.533</td>\n",
       "      <td>2010-11-19</td>\n",
       "      <td>Harry Potter and the Deathly Hallows: Part 1</td>\n",
       "      <td>7.7</td>\n",
       "      <td>10788</td>\n",
       "    </tr>\n",
       "    <tr>\n",
       "      <th>1</th>\n",
       "      <td>[14, 12, 16, 10751]</td>\n",
       "      <td>10191</td>\n",
       "      <td>en</td>\n",
       "      <td>How to Train Your Dragon</td>\n",
       "      <td>28.734</td>\n",
       "      <td>2010-03-26</td>\n",
       "      <td>How to Train Your Dragon</td>\n",
       "      <td>7.7</td>\n",
       "      <td>7610</td>\n",
       "    </tr>\n",
       "  </tbody>\n",
       "</table>\n",
       "</div>"
      ],
      "text/plain": [
       "             genre_ids     id original_language  \\\n",
       "0      [12, 14, 10751]  12444                en   \n",
       "1  [14, 12, 16, 10751]  10191                en   \n",
       "\n",
       "                                 original_title  popularity release_date  \\\n",
       "0  Harry Potter and the Deathly Hallows: Part 1      33.533   2010-11-19   \n",
       "1                      How to Train Your Dragon      28.734   2010-03-26   \n",
       "\n",
       "                                          title  vote_average  vote_count  \n",
       "0  Harry Potter and the Deathly Hallows: Part 1           7.7       10788  \n",
       "1                      How to Train Your Dragon           7.7        7610  "
      ]
     },
     "execution_count": 6,
     "metadata": {},
     "output_type": "execute_result"
    }
   ],
   "source": [
    "tmdb_movies = pd.read_csv('tmdb.movies.csv.gz', index_col='Unnamed: 0')\n",
    "\n",
    "'''\n",
    "1. **genre_ids** (Indexed by \"Unnamed: 0\"): A list of genre IDs associated with the movie.\n",
    "2. **id**: An identifier for the movie.\n",
    "3. **original_language**: The original language of the movie.\n",
    "4. **original_title**: The original title of the movie.\n",
    "5. **popularity**: A measure of the movie's popularity.\n",
    "6. **release_date**: The date the movie was released.\n",
    "7. **title**: The title of the movie.\n",
    "8. **vote_average**: The average vote or rating for the movie.\n",
    "9. **vote_count**: The number of votes the movie received.\n",
    "\n",
    "\n",
    "'''\n",
    "\n",
    "# Show the first few rows of the DataFrame\n",
    "tmdb_movies.head(2)"
   ]
  },
  {
   "cell_type": "code",
   "execution_count": 7,
   "metadata": {},
   "outputs": [
    {
     "data": {
      "text/html": [
       "<div>\n",
       "<style scoped>\n",
       "    .dataframe tbody tr th:only-of-type {\n",
       "        vertical-align: middle;\n",
       "    }\n",
       "\n",
       "    .dataframe tbody tr th {\n",
       "        vertical-align: top;\n",
       "    }\n",
       "\n",
       "    .dataframe thead th {\n",
       "        text-align: right;\n",
       "    }\n",
       "</style>\n",
       "<table border=\"1\" class=\"dataframe\">\n",
       "  <thead>\n",
       "    <tr style=\"text-align: right;\">\n",
       "      <th></th>\n",
       "      <th>id</th>\n",
       "      <th>release_date</th>\n",
       "      <th>movie</th>\n",
       "      <th>production_budget</th>\n",
       "      <th>domestic_gross</th>\n",
       "      <th>worldwide_gross</th>\n",
       "    </tr>\n",
       "  </thead>\n",
       "  <tbody>\n",
       "    <tr>\n",
       "      <th>0</th>\n",
       "      <td>1</td>\n",
       "      <td>Dec 18, 2009</td>\n",
       "      <td>Avatar</td>\n",
       "      <td>425000000.0</td>\n",
       "      <td>760507625.0</td>\n",
       "      <td>2.776345e+09</td>\n",
       "    </tr>\n",
       "    <tr>\n",
       "      <th>1</th>\n",
       "      <td>2</td>\n",
       "      <td>May 20, 2011</td>\n",
       "      <td>Pirates of the Caribbean: On Stranger Tides</td>\n",
       "      <td>410600000.0</td>\n",
       "      <td>241063875.0</td>\n",
       "      <td>1.045664e+09</td>\n",
       "    </tr>\n",
       "  </tbody>\n",
       "</table>\n",
       "</div>"
      ],
      "text/plain": [
       "   id  release_date                                        movie  \\\n",
       "0   1  Dec 18, 2009                                       Avatar   \n",
       "1   2  May 20, 2011  Pirates of the Caribbean: On Stranger Tides   \n",
       "\n",
       "   production_budget  domestic_gross  worldwide_gross  \n",
       "0        425000000.0     760507625.0     2.776345e+09  \n",
       "1        410600000.0     241063875.0     1.045664e+09  "
      ]
     },
     "execution_count": 7,
     "metadata": {},
     "output_type": "execute_result"
    }
   ],
   "source": [
    "movie_budgets = pd.read_csv('tn.movie_budgets.csv.gz')\n",
    "# Remove dollar sign and commas, and convert to numeric type\n",
    "for column in [\"production_budget\", \"domestic_gross\", \"worldwide_gross\"]:\n",
    "    movie_budgets[column] = movie_budgets[column].str.replace('$', '').str.replace(',', '').astype(float)\n",
    "\n",
    "\n",
    "'''\n",
    "The movie_budgets file contain information about movie budgets and earnings. \n",
    "\n",
    "Here are the columns and a brief description of each:\n",
    "\n",
    "1. **id**: An identifier for the movie.\n",
    "2. **release_date**: The date the movie was released.\n",
    "3. **movie**: The title of the movie.\n",
    "4. **production_budget**: The budget for producing the movie. \n",
    "5. **domestic_gross**: The gross domestic earnings of the movie in USD. \n",
    "6. **worldwide_gross**: The gross worldwide earnings of the movie. \n",
    "\n",
    "'''\n",
    "\n",
    "# Show the first few rows of the DataFrame\n",
    "movie_budgets.head(2)"
   ]
  },
  {
   "cell_type": "markdown",
   "metadata": {},
   "source": [
    "### Data Preparation\n",
    "***\n",
    "Let's now proceed with the data review and cleanup. We'll start with checking for missing or null values in our datasets."
   ]
  },
  {
   "cell_type": "code",
   "execution_count": 8,
   "metadata": {
    "scrolled": true
   },
   "outputs": [
    {
     "data": {
      "text/plain": [
       "{'movie_gross': title                0\n",
       " studio               5\n",
       " domestic_gross      28\n",
       " foreign_gross     1350\n",
       " year                 0\n",
       " dtype: int64,\n",
       " 'rt_movie': id                 0\n",
       " synopsis          62\n",
       " rating             3\n",
       " genre              8\n",
       " director         199\n",
       " writer           449\n",
       " theater_date     359\n",
       " dvd_date         359\n",
       " currency        1220\n",
       " box_office      1220\n",
       " runtime           30\n",
       " studio          1066\n",
       " dtype: int64,\n",
       " 'rt_review': id                0\n",
       " review         5563\n",
       " rating        13517\n",
       " fresh             0\n",
       " critic         2722\n",
       " top_critic        0\n",
       " publisher       309\n",
       " date              0\n",
       " dtype: int64,\n",
       " 'tmdb_movies': genre_ids            0\n",
       " id                   0\n",
       " original_language    0\n",
       " original_title       0\n",
       " popularity           0\n",
       " release_date         0\n",
       " title                0\n",
       " vote_average         0\n",
       " vote_count           0\n",
       " dtype: int64,\n",
       " 'movie_budgets': id                   0\n",
       " release_date         0\n",
       " movie                0\n",
       " production_budget    0\n",
       " domestic_gross       0\n",
       " worldwide_gross      0\n",
       " dtype: int64}"
      ]
     },
     "execution_count": 8,
     "metadata": {},
     "output_type": "execute_result"
    }
   ],
   "source": [
    "# Check for missing values in all dataframes\n",
    "missing_values = {\n",
    "    \"movie_gross\": movie_gross.isnull().sum(),\n",
    "    \"rt_movie\": rt_movie.isnull().sum(),\n",
    "    \"rt_review\": rt_review.isnull().sum(),\n",
    "    \"tmdb_movies\": tmdb_movies.isnull().sum(),\n",
    "    \"movie_budgets\": movie_budgets.isnull().sum()\n",
    "}\n",
    "\n",
    "missing_values\n"
   ]
  },
  {
   "cell_type": "markdown",
   "metadata": {},
   "source": [
    "Here is the summary of missing values in each dataframe:\n",
    "\n",
    "1. **movie_gross**: \n",
    "    - `studio`: 5 missing values\n",
    "    - `domestic_gross`: 28 missing values\n",
    "    - `foreign_gross`: 1350 missing values\n",
    "\n",
    "2. **rt_movie**: \n",
    "    - `synopsis`: 62 missing values\n",
    "    - `rating`: 3 missing values\n",
    "    - `genre`: 8 missing values\n",
    "    - `director`: 199 missing values\n",
    "    - `writer`: 449 missing values\n",
    "    - `theater_date`: 359 missing values\n",
    "    - `dvd_date`: 359 missing values\n",
    "    - `currency`: 1220 missing values\n",
    "    - `box_office`: 1220 missing values\n",
    "    - `runtime`: 30 missing values\n",
    "    - `studio`: 1066 missing values\n",
    "\n",
    "3. **rt_review**:\n",
    "    - `review`: 5563 missing values\n",
    "    - `rating`: 13517 missing values\n",
    "    - `critic`: 2722 missing values\n",
    "    - `publisher`: 309 missing values\n",
    "\n",
    "4. **tmdb_movies**:\n",
    "    - No missing values\n",
    "\n",
    "5. **movie_budgets**:\n",
    "    - No missing values"
   ]
  },
  {
   "cell_type": "markdown",
   "metadata": {},
   "source": [
    "As there are missing values in the first three dataframes, we need to handle them appropriately. \n",
    "\n",
    "For `movie_gross`, we'll drop the rows where `domestic_gross` or `foreign_gross` are missing, as these are crucial for our analysis. For `rt_movie`, we'll drop the rows where `box_office` is missing for similar reasons. For `rt_review`, we'll drop the rows where `review` or `rating` are missing.\n",
    "***"
   ]
  },
  {
   "cell_type": "code",
   "execution_count": 9,
   "metadata": {
    "scrolled": true
   },
   "outputs": [
    {
     "data": {
      "text/plain": [
       "{'movie_gross': title             0\n",
       " studio            2\n",
       " domestic_gross    0\n",
       " foreign_gross     0\n",
       " year              0\n",
       " dtype: int64,\n",
       " 'rt_movie': id               0\n",
       " synopsis         0\n",
       " rating           0\n",
       " genre            0\n",
       " director        41\n",
       " writer          67\n",
       " theater_date     6\n",
       " dvd_date         6\n",
       " currency         0\n",
       " box_office       0\n",
       " runtime          2\n",
       " studio          35\n",
       " dtype: int64,\n",
       " 'rt_review': id               0\n",
       " review           0\n",
       " rating           0\n",
       " fresh            0\n",
       " critic        1190\n",
       " top_critic       0\n",
       " publisher      227\n",
       " date             0\n",
       " dtype: int64}"
      ]
     },
     "execution_count": 9,
     "metadata": {},
     "output_type": "execute_result"
    }
   ],
   "source": [
    "# Drop rows with missing values in 'domestic_gross' or 'foreign_gross' in df\n",
    "movie_gross = movie_gross.dropna(subset=['domestic_gross', 'foreign_gross'])\n",
    "\n",
    "# Drop rows with missing values in 'box_office' in df2\n",
    "rt_movie = rt_movie.dropna(subset=['box_office'])\n",
    "\n",
    "# Drop rows with missing values in 'review' or 'rating' in df3\n",
    "rt_review = rt_review.dropna(subset=['review', 'rating'])\n",
    "\n",
    "# Check for missing values again\n",
    "missing_values_after = {\n",
    "    \"movie_gross\": movie_gross.isnull().sum(),\n",
    "    \"rt_movie\": rt_movie.isnull().sum(),\n",
    "    \"rt_review\": rt_review.isnull().sum()\n",
    "}\n",
    "\n",
    "missing_values_after\n"
   ]
  },
  {
   "cell_type": "markdown",
   "metadata": {},
   "source": [
    "We have successfully handled some of the missing values in the dataframes `movie_gross`, `rt_movie`, and `rt_review`. Here is the updated summary of missing values:\n",
    "\n",
    "1. **movie_gross**: \n",
    "    - `studio`: 2 missing values\n",
    "\n",
    "2. **rt_movie**: \n",
    "    - `director`: 41 missing values\n",
    "    - `writer`: 67 missing values\n",
    "    - `theater_date`: 6 missing values\n",
    "    - `dvd_date`: 6 missing values\n",
    "    - `runtime`: 2 missing values\n",
    "    - `studio`: 35 missing values\n",
    "\n",
    "3. **rt_review**:\n",
    "    - `critic`: 1190 missing values\n",
    "    - `publisher`: 227 missing values"
   ]
  },
  {
   "cell_type": "markdown",
   "metadata": {},
   "source": [
    "***\n",
    "Next, let's handle duplicates in our data. We will check each dataframe for duplicate rows and remove them if necessary. This is important to ensure the accuracy of our analysis. We don't want to count the same information multiple times.\n",
    "***"
   ]
  },
  {
   "cell_type": "code",
   "execution_count": 10,
   "metadata": {
    "scrolled": true
   },
   "outputs": [
    {
     "data": {
      "text/plain": [
       "{'movie_gross': 0,\n",
       " 'rt_movie': 0,\n",
       " 'rt_review': 1,\n",
       " 'tmdb_movies': 1020,\n",
       " 'movie_budgets': 0}"
      ]
     },
     "execution_count": 10,
     "metadata": {},
     "output_type": "execute_result"
    }
   ],
   "source": [
    "# Check for duplicates in all dataframes and drop them\n",
    "duplicates = {\n",
    "    \"movie_gross\": movie_gross.duplicated().sum(),\n",
    "    \"rt_movie\": rt_movie.duplicated().sum(),\n",
    "    \"rt_review\": rt_review.duplicated().sum(),\n",
    "    \"tmdb_movies\": tmdb_movies.duplicated().sum(),\n",
    "    \"movie_budgets\": movie_budgets.duplicated().sum()\n",
    "}\n",
    "\n",
    "# Drop duplicates\n",
    "movie_gross = movie_gross.drop_duplicates()\n",
    "rt_movie = rt_movie.drop_duplicates()\n",
    "rt_review = rt_review.drop_duplicates()\n",
    "tmdb_movies = tmdb_movies.drop_duplicates()\n",
    "movie_budgets = movie_budgets.drop_duplicates()\n",
    "\n",
    "duplicates"
   ]
  },
  {
   "cell_type": "markdown",
   "metadata": {},
   "source": [
    "The following duplicates were found and removed from the dataframes:\n",
    "\n",
    "1. **movie_gross**: No duplicates found.\n",
    "2. **rt_movie**: No duplicates found.\n",
    "3. **rt_review**: 1 duplicate found and removed.\n",
    "4. **tmdb_movies**: 1020 duplicates found and removed.\n",
    "5. **movie_budgets**: No duplicates found.\n",
    "***"
   ]
  },
  {
   "cell_type": "markdown",
   "metadata": {},
   "source": [
    "Finally, we need to ensure that the data types are suitable for our analysis. Let's check the data types of our dataframes. We'll specifically look for any columns that should be numeric for analysis but are currently stored as strings (object type in pandas), or date columns that are stored as strings instead of datetime objects.\n",
    "***"
   ]
  },
  {
   "cell_type": "code",
   "execution_count": 11,
   "metadata": {},
   "outputs": [
    {
     "data": {
      "text/plain": [
       "{'movie_gross': title              object\n",
       " studio             object\n",
       " domestic_gross    float64\n",
       " foreign_gross      object\n",
       " year                int64\n",
       " dtype: object,\n",
       " 'rt_movie': id               int64\n",
       " synopsis        object\n",
       " rating          object\n",
       " genre           object\n",
       " director        object\n",
       " writer          object\n",
       " theater_date    object\n",
       " dvd_date        object\n",
       " currency        object\n",
       " box_office      object\n",
       " runtime         object\n",
       " studio          object\n",
       " dtype: object,\n",
       " 'rt_review': id             int64\n",
       " review        object\n",
       " rating        object\n",
       " fresh         object\n",
       " critic        object\n",
       " top_critic     int64\n",
       " publisher     object\n",
       " date          object\n",
       " dtype: object,\n",
       " 'tmdb_movies': genre_ids             object\n",
       " id                     int64\n",
       " original_language     object\n",
       " original_title        object\n",
       " popularity           float64\n",
       " release_date          object\n",
       " title                 object\n",
       " vote_average         float64\n",
       " vote_count             int64\n",
       " dtype: object,\n",
       " 'movie_budgets': id                     int64\n",
       " release_date          object\n",
       " movie                 object\n",
       " production_budget    float64\n",
       " domestic_gross       float64\n",
       " worldwide_gross      float64\n",
       " dtype: object}"
      ]
     },
     "execution_count": 11,
     "metadata": {},
     "output_type": "execute_result"
    }
   ],
   "source": [
    "# Check data types in all dataframes\n",
    "data_types = {\n",
    "    \"movie_gross\": movie_gross.dtypes,\n",
    "    \"rt_movie\": rt_movie.dtypes,\n",
    "    \"rt_review\": rt_review.dtypes,\n",
    "    \"tmdb_movies\": tmdb_movies.dtypes,\n",
    "    \"movie_budgets\": movie_budgets.dtypes\n",
    "}\n",
    "\n",
    "data_types"
   ]
  },
  {
   "cell_type": "markdown",
   "metadata": {},
   "source": [
    "Here is the summary of the data types in each dataframe:\n",
    "\n",
    "1. **movie_gross**: \n",
    "    - `title`: object\n",
    "    - `studio`: object\n",
    "    - `domestic_gross`: float64\n",
    "    - `foreign_gross`: object (needs to be converted to numeric type)\n",
    "    - `year`: int64\n",
    "\n",
    "2. **rt_movie**: \n",
    "    - `id`: int64\n",
    "    - `synopsis`: object\n",
    "    - `rating`: object\n",
    "    - `genre`: object\n",
    "    - `director`: object\n",
    "    - `writer`: object\n",
    "    - `theater_date`: object (needs to be converted to datetime)\n",
    "    - `dvd_date`: object (needs to be converted to datetime)\n",
    "    - `currency`: object\n",
    "    - `box_office`: object (needs to be converted to numeric type)\n",
    "    - `runtime`: object (needs to be converted to numeric type)\n",
    "    - `studio`: object\n",
    "\n",
    "3. **rt_review**:\n",
    "    - `id`: int64\n",
    "    - `review`: object\n",
    "    - `rating`: object\n",
    "    - `fresh`: object\n",
    "    - `critic`: object\n",
    "    - `top_critic`: int64\n",
    "    - `publisher`: object\n",
    "    - `date`: object (needs to be converted to datetime)\n",
    "\n",
    "4. **tmdb_movies**:\n",
    "    - `genre_ids`: object\n",
    "    - `id`: int64\n",
    "    - `original_language`: object\n",
    "    - `original_title`: object\n",
    "    - `popularity`: float64\n",
    "    - `release_date`: object (needs to be converted to datetime)\n",
    "    - `title`: object\n",
    "    - `vote_average`: float64\n",
    "    - `vote_count`: int64\n",
    "\n",
    "5. **movie_budgets**:\n",
    "    - `id`: int64\n",
    "    - `release_date`: object (needs to be converted to datetime)\n",
    "    - `movie`: object\n",
    "    - `production_budget`: float64\n",
    "    - `domestic_gross`: float64\n",
    "    - `worldwide_gross`: float64"
   ]
  },
  {
   "cell_type": "markdown",
   "metadata": {},
   "source": [
    "We need to convert the `foreign_gross` column in `movie_gross`, the `box_office` and `runtime` columns in `rt_movie`, and the `release_date` columns in `rt_movie`, `tmdb_movies`, and `movie_budgets` to the appropriate data types. Let's proceed with these conversions."
   ]
  },
  {
   "cell_type": "code",
   "execution_count": 12,
   "metadata": {},
   "outputs": [
    {
     "data": {
      "text/plain": [
       "{'movie_gross': title              object\n",
       " studio             object\n",
       " domestic_gross    float64\n",
       " foreign_gross     float64\n",
       " year                int64\n",
       " dtype: object,\n",
       " 'rt_movie': id                       int64\n",
       " synopsis                object\n",
       " rating                  object\n",
       " genre                   object\n",
       " director                object\n",
       " writer                  object\n",
       " theater_date    datetime64[ns]\n",
       " dvd_date        datetime64[ns]\n",
       " currency                object\n",
       " box_office             float64\n",
       " runtime                float64\n",
       " studio                  object\n",
       " dtype: object,\n",
       " 'tmdb_movies': genre_ids                    object\n",
       " id                            int64\n",
       " original_language            object\n",
       " original_title               object\n",
       " popularity                  float64\n",
       " release_date         datetime64[ns]\n",
       " title                        object\n",
       " vote_average                float64\n",
       " vote_count                    int64\n",
       " dtype: object,\n",
       " 'movie_budgets': id                            int64\n",
       " release_date         datetime64[ns]\n",
       " movie                        object\n",
       " production_budget           float64\n",
       " domestic_gross              float64\n",
       " worldwide_gross             float64\n",
       " dtype: object}"
      ]
     },
     "execution_count": 12,
     "metadata": {},
     "output_type": "execute_result"
    }
   ],
   "source": [
    "# Convert 'foreign_gross' in df to numeric type\n",
    "movie_gross['foreign_gross'] = movie_gross['foreign_gross'].str.replace(',', '').astype(float)\n",
    "\n",
    "# Convert 'box_office' and 'runtime' in df2 to numeric types\n",
    "rt_movie['box_office'] = rt_movie['box_office'].str.replace('$', '').str.replace(',', '').astype(float)\n",
    "rt_movie['runtime'] = rt_movie['runtime'].str.replace(' minutes', '').astype(float)\n",
    "\n",
    "# Convert 'release_date' in df2, df4, and df5 to datetime\n",
    "rt_movie['theater_date'] = pd.to_datetime(rt_movie['theater_date'], errors='coerce')\n",
    "rt_movie['dvd_date'] = pd.to_datetime(rt_movie['dvd_date'], errors='coerce')\n",
    "tmdb_movies['release_date'] = pd.to_datetime(tmdb_movies['release_date'], errors='coerce')\n",
    "movie_budgets['release_date'] = pd.to_datetime(movie_budgets['release_date'], errors='coerce')\n",
    "\n",
    "# Check data types again\n",
    "data_types_after = {\n",
    "    \"movie_gross\": movie_gross.dtypes,\n",
    "    \"rt_movie\": rt_movie.dtypes,\n",
    "    \"tmdb_movies\": tmdb_movies.dtypes,\n",
    "    \"movie_budgets\": movie_budgets.dtypes\n",
    "}\n",
    "\n",
    "data_types_after"
   ]
  },
  {
   "cell_type": "markdown",
   "metadata": {},
   "source": [
    "## Data Modeling\n",
    "\n",
    "Now, all the DataFrames are cleaned and ready for analysis. We proceed with the analysis \n",
    "\n",
    "---\n",
    "\n",
    "1. **Profitable Movie Genres**: We'll analyze the `bom_movie_gross` and `tmdb_movies` tables to understand the box office performance of different movie genres.\n",
    "\n",
    "2. **Optimal Release Timing**: We'll use the `tn_movie_budgets` table to see how the release date of a movie affects its performance at the box office.\n",
    "\n",
    "3. **Budget Allocation Strategy**: We'll analyze the `tn_movie_budgets` table to understand the relationship between the budget of a movie and its performance at the box office."
   ]
  },
  {
   "cell_type": "code",
   "execution_count": 13,
   "metadata": {},
   "outputs": [
    {
     "data": {
      "image/png": "[encoded data removed]",
      "text/plain": [
       "<Figure size 720x432 with 1 Axes>"
      ]
     },
     "metadata": {
      "needs_background": "light"
     },
     "output_type": "display_data"
    }
   ],
   "source": [
    "# Scatter plot of average rating in tmdb_movies\n",
    "plt.figure(figsize=(10, 6))\n",
    "plt.scatter(tmdb_movies['vote_average'], tmdb_movies['vote_count'])\n",
    "plt.xlabel('Average Rating')\n",
    "plt.ylabel('Vote Count')\n",
    "plt.title('Scatter Plot of Average Rating and Vote Count')\n",
    "plt.show()"
   ]
  },
  {
   "cell_type": "code",
   "execution_count": 14,
   "metadata": {},
   "outputs": [
    {
     "data": {
      "image/png": "[encoded data removed]",
      "text/plain": [
       "<Figure size 720x432 with 1 Axes>"
      ]
     },
     "metadata": {
      "needs_background": "light"
     },
     "output_type": "display_data"
    }
   ],
   "source": [
    "# Box plot of average rating in tmdb_movies\n",
    "plt.figure(figsize=(10, 6))\n",
    "plt.boxplot(tmdb_movies['vote_average'].dropna())\n",
    "plt.ylabel('Average Rating')\n",
    "plt.title('Box Plot of Average Rating')\n",
    "plt.show()"
   ]
  },
  {
   "cell_type": "code",
   "execution_count": 15,
   "metadata": {},
   "outputs": [
    {
     "data": {
      "image/png": "[encoded data removed]",
      "text/plain": [
       "<Figure size 1008x504 with 2 Axes>"
      ]
     },
     "metadata": {
      "needs_background": "light"
     },
     "output_type": "display_data"
    }
   ],
   "source": [
    "# Box plots of domestic and foreign gross sales in df\n",
    "plt.figure(figsize=(14, 7))\n",
    "\n",
    "# Subplot for domestic gross\n",
    "plt.subplot(1, 2, 1)\n",
    "plt.boxplot(movie_gross['domestic_gross'].dropna() / 1e6)  # Convert to millions for easier interpretation\n",
    "plt.title('Domestic Gross Sales')\n",
    "plt.ylabel('Amount (in millions)')\n",
    "\n",
    "# Subplot for foreign gross\n",
    "plt.subplot(1, 2, 2)\n",
    "plt.boxplot(movie_gross['foreign_gross'].dropna() / 1e6)  # Convert to millions for easier interpretation\n",
    "plt.title('Foreign Gross Sales')\n",
    "plt.ylabel('Amount (in millions)')\n",
    "\n",
    "plt.tight_layout()\n",
    "plt.show()"
   ]
  },
  {
   "cell_type": "code",
   "execution_count": 16,
   "metadata": {},
   "outputs": [
    {
     "data": {
      "image/png": "[encoded data removed]",
      "text/plain": [
       "<Figure size 720x432 with 1 Axes>"
      ]
     },
     "metadata": {
      "needs_background": "light"
     },
     "output_type": "display_data"
    }
   ],
   "source": [
    "# Line graph of domestic and foreign gross sales in df\n",
    "plt.figure(figsize=(10, 6))\n",
    "plt.plot(movie_gross.groupby('year')['domestic_gross'].mean()/1e6, label='Domestic Gross')\n",
    "plt.plot(movie_gross.groupby('year')['foreign_gross'].mean()/1e6, label='Foreign Gross')\n",
    "plt.xlabel('Year')\n",
    "plt.ylabel('Average Gross Sales (in millions $)')\n",
    "plt.title('Average Domestic and Foreign Gross Sales over Years')\n",
    "plt.legend()\n",
    "plt.show()"
   ]
  },
  {
   "cell_type": "code",
   "execution_count": 17,
   "metadata": {
    "scrolled": true
   },
   "outputs": [
    {
     "data": {
      "image/png": "[encoded data removed]",
      "text/plain": [
       "<Figure size 1008x432 with 2 Axes>"
      ]
     },
     "metadata": {
      "needs_background": "light"
     },
     "output_type": "display_data"
    }
   ],
   "source": [
    "# Check the distribution of box_office and runtime\n",
    "fig, ax = plt.subplots(1, 2, figsize=(14, 6))\n",
    "\n",
    "sns.histplot(rt_movie['box_office'], bins=30, ax=ax[0])\n",
    "ax[0].set_title('Distribution of Box Office')\n",
    "\n",
    "sns.histplot(rt_movie['runtime'], bins=30, ax=ax[1])\n",
    "ax[1].set_title('Distribution of Runtime')\n",
    "\n",
    "plt.tight_layout()\n",
    "plt.show()"
   ]
  },
  {
   "cell_type": "markdown",
   "metadata": {},
   "source": [
    "The histograms above represent the distributions of the box office revenue and runtime duration for the movies in our dataset.\n",
    "\n",
    "1. **Distribution of Box Office**: Most of the movies in our dataset have box office revenue less than 0.5 billion. There are a few movies with box office revenue reaching up to 1 billion.\n",
    "\n",
    "2. **Distribution of Runtime**: The majority of the movies in our dataset have a runtime between 80 and 120 minutes. There are a few movies that last more than 200 minutes.\n",
    "***"
   ]
  },
  {
   "cell_type": "code",
   "execution_count": 18,
   "metadata": {},
   "outputs": [
    {
     "data": {
      "image/png": "[encoded data removed]",
      "text/plain": [
       "<Figure size 720x432 with 1 Axes>"
      ]
     },
     "metadata": {
      "needs_background": "light"
     },
     "output_type": "display_data"
    }
   ],
   "source": [
    "# Analyzing the relationship between runtime and box_office\n",
    "plt.figure(figsize=(10, 6))\n",
    "plt.scatter(rt_movie['runtime'], rt_movie['box_office'])\n",
    "plt.title('Scatter plot of Box Office against Runtime')\n",
    "plt.xlabel('Runtime (minutes)')\n",
    "plt.ylabel('Box Office ($)')\n",
    "plt.show()"
   ]
  },
  {
   "cell_type": "markdown",
   "metadata": {},
   "source": [
    "The scatter plot above shows the relationship between the runtime of movies and their box office revenue. There doesn't seem to be a clear correlation between the two variables. Movies with different runtimes have a wide range of box office revenues. There are movies with both low and high runtimes that have high box office revenues, suggesting that the length of a movie does not necessarily determine its financial success.\n",
    "***"
   ]
  },
  {
   "cell_type": "code",
   "execution_count": 19,
   "metadata": {},
   "outputs": [
    {
     "data": {
      "text/plain": [
       "genre\n",
       "Science Fiction and Fantasy    8.094787e+07\n",
       "Action and Adventure           6.232875e+07\n",
       "Animation                      5.619246e+07\n",
       "Kids and Family                5.469997e+07\n",
       "Romance                        4.826660e+07\n",
       "Mystery and Suspense           4.255492e+07\n",
       "Comedy                         4.191096e+07\n",
       "Drama                          2.825376e+07\n",
       "Horror                         2.638568e+07\n",
       "Sports and Fitness             2.124168e+07\n",
       "Name: box_office, dtype: float64"
      ]
     },
     "execution_count": 19,
     "metadata": {},
     "output_type": "execute_result"
    }
   ],
   "source": [
    "# Clean up the 'genre' column\n",
    "rt_movie['genre'] = rt_movie['genre'].str.strip().str.split('|')\n",
    "\n",
    "# Explode the dataframe on the 'genre' column\n",
    "rt_movie_exploded = rt_movie.explode('genre')\n",
    "\n",
    "# Group by genre and calculate the mean box_office\n",
    "genre_box_office =rt_movie_exploded.groupby('genre')['box_office'].mean().sort_values(ascending=False)\n",
    "\n",
    "# Display the top 10 genres with the highest average box office\n",
    "genre_box_office.head(10)"
   ]
  },
  {
   "cell_type": "code",
   "execution_count": null,
   "metadata": {},
   "outputs": [],
   "source": []
  }
 ],
 "metadata": {
  "kernelspec": {
   "display_name": "Python 3",
   "language": "python",
   "name": "python3"
  },
  "language_info": {
   "codemirror_mode": {
    "name": "ipython",
    "version": 3
   },
   "file_extension": ".py",
   "mimetype": "text/x-python",
   "name": "python",
   "nbconvert_exporter": "python",
   "pygments_lexer": "ipython3",
   "version": "3.8.5"
  }
 },
 "nbformat": 4,
 "nbformat_minor": 4
}
